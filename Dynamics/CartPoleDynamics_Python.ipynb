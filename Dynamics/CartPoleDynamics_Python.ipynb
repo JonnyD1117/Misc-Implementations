{
  "nbformat": 4,
  "nbformat_minor": 0,
  "metadata": {
    "colab": {
      "name": "Welcome To Colaboratory",
      "provenance": [],
      "collapsed_sections": [],
      "include_colab_link": true
    },
    "kernelspec": {
      "display_name": "Python 3",
      "name": "python3"
    }
  },
  "cells": [
    {
      "cell_type": "markdown",
      "metadata": {
        "id": "view-in-github",
        "colab_type": "text"
      },
      "source": [
        "<a href=\"https://colab.research.google.com/github/JonnyD1117/Misc-Implementations/blob/master/Dynamics/CartPoleDynamics_Python.ipynb\" target=\"_parent\"><img src=\"https://colab.research.google.com/assets/colab-badge.svg\" alt=\"Open In Colab\"/></a>"
      ]
    },
    {
      "cell_type": "markdown",
      "metadata": {
        "id": "Qsb6Z98FF-Cd",
        "colab_type": "text"
      },
      "source": [
        "# CartPole Dynamics for OpenAI GYM via Euler-Lagrange Eqn."
      ]
    },
    {
      "cell_type": "code",
      "metadata": {
        "id": "5SvMs_4XGfEJ",
        "colab_type": "code",
        "colab": {}
      },
      "source": [
        "import numpy as np "
      ],
      "execution_count": null,
      "outputs": []
    },
    {
      "cell_type": "code",
      "metadata": {
        "id": "-TgSbkJIGGFu",
        "colab_type": "code",
        "colab": {}
      },
      "source": [
        "def accel_model(states, input):\n",
        "  x_num = (mp*g*sin(theta)*cos(theta)-mp*L*sin(theta)*(theta_dot)^2 + F_x);\n",
        "  x_den = ((m + mp)-mp*(cos(theta))^2);\n",
        "  x_ddot = (x_num/x_den);\n",
        "\n",
        "  theta_num =(mp*L*sin(theta)*cos(theta)*(theta_dot)^2 - cos(theta)*F_x -(m+mp)*g*sin(theta));\n",
        "  theta_den = (mp*L*(cos(theta))^2-(m+mp)*L);\n",
        "  theta_ddot = (theta_num/theta_den);\n",
        "\n",
        "\n"
      ],
      "execution_count": null,
      "outputs": []
    }
  ]
}